{
 "cells": [
  {
   "cell_type": "code",
   "execution_count": 1,
   "id": "7c5864ae",
   "metadata": {},
   "outputs": [
    {
     "name": "stdout",
     "output_type": "stream",
     "text": [
      "사용 디바이스: cuda\n"
     ]
    }
   ],
   "source": [
    "import pandas as pd\n",
    "import numpy as np\n",
    "import matplotlib.pyplot as plt\n",
    "import torch\n",
    "import torch.nn as nn\n",
    "import torch.optim as optim\n",
    "from torch.utils.data import Dataset, DataLoader\n",
    "\n",
    "# 한글 폰트 설정\n",
    "plt.rcParams['font.family'] = ['Malgun Gothic']\n",
    "plt.rcParams['axes.unicode_minus'] = False\n",
    "\n",
    "# GPU 사용 가능 여부 확인\n",
    "device = torch.device('cuda' if torch.cuda.is_available() else 'cpu')\n",
    "print(f\"사용 디바이스: {device}\")"
   ]
  },
  {
   "cell_type": "code",
   "execution_count": 3,
   "id": "577f47b6",
   "metadata": {},
   "outputs": [],
   "source": [
    "def normalize_data(data):\n",
    "    data_tensor = torch.FloatTensor(data) if not isinstance(data, torch.Tensor) else data\n",
    "    data_min = torch.min(data_tensor)\n",
    "    data_max = torch.max(data_tensor)\n",
    "    normalized_data = (data_tensor - data_min) / (data_max - data_min)\n",
    "    return normalized_data.numpy(), data_min.item(), data_max.item()\n",
    "\n",
    "def denormalize_data(normalized_data, data_min, data_max):\n",
    "    normalized_tensor = torch.FloatTensor(normalized_data) if not isinstance(normalized_data, torch.Tensor) else normalized_data\n",
    "    denormalized = normalized_tensor * (data_max - data_min) + data_min\n",
    "    return denormalized.numpy()\n",
    "\n",
    "def calculate_mape(y_true, y_pred):\n",
    "    y_true_tensor = torch.FloatTensor(y_true) if not isinstance(y_true, torch.Tensor) else y_true\n",
    "    y_pred_tensor = torch.FloatTensor(y_pred) if not isinstance(y_pred, torch.Tensor) else y_pred\n",
    "    mask = y_true_tensor != 0\n",
    "    if mask.sum() == 0:\n",
    "        return 0.0\n",
    "    mape = torch.mean(torch.abs((y_true_tensor[mask] - y_pred_tensor[mask]) / y_true_tensor[mask])) * 100\n",
    "    return mape.item()\n",
    "\n",
    "def calculate_rmse(y_true, y_pred):\n",
    "    y_true_tensor = torch.FloatTensor(y_true) if not isinstance(y_true, torch.Tensor) else y_true\n",
    "    y_pred_tensor = torch.FloatTensor(y_pred) if not isinstance(y_pred, torch.Tensor) else y_pred\n",
    "    mse = torch.mean((y_true_tensor - y_pred_tensor) ** 2)\n",
    "    rmse = torch.sqrt(mse)\n",
    "    return rmse.item()\n",
    "\n",
    "def calculate_mae(y_true, y_pred):\n",
    "    y_true_tensor = torch.FloatTensor(y_true) if not isinstance(y_true, torch.Tensor) else y_true\n",
    "    y_pred_tensor = torch.FloatTensor(y_pred) if not isinstance(y_pred, torch.Tensor) else y_pred\n",
    "    mae = torch.mean(torch.abs(y_true_tensor - y_pred_tensor))\n",
    "    return mae.item()"
   ]
  },
  {
   "cell_type": "code",
   "execution_count": null,
   "id": "97a99e0b",
   "metadata": {},
   "outputs": [],
   "source": [
    "# 1. 데이터 생성\n",
    "# 2. 데이터를 전처리\n",
    "# 3. 모델을 생성\n",
    "# 4. 모델을 학습\n",
    "# 5. 훈련과정을 시각화\n",
    "# 6. 미래 예측\n",
    "# 7. 미래 예측 시각화\n",
    "# 8. 백테스트"
   ]
  },
  {
   "cell_type": "code",
   "execution_count": null,
   "id": "bf776459",
   "metadata": {},
   "outputs": [],
   "source": [
    "# 1. 데이터 생성\n",
    "# sample_data = create_data()\n",
    "# 2. 데이터를 전처리\n",
    "# data_cleanup = prepare(sample_data)\n",
    "# 3. 모델을 생성\n",
    "# model = create_model(rnn, hidden_layer=64, num_layers=2) # num_layers=1은 의미가 없다. fully-connected Linear모델과 다를 게 없다.\n",
    "# 4. 모델을 학습\n",
    "# result_train = train_model(model, epoch=10, lr=0.01)\n",
    "# 5. 훈련과정을 시각화\n",
    "# plot_train(result_train)\n",
    "# 6. 미래 예측\n",
    "# pred = forecast(model, data_cleanup, steps=10)\n",
    "# 7. 미래 예측 시각화\n",
    "# plot_pred(pred)\n",
    "# 8. 백테스트\n",
    "# backtest(model, data_cleanup)"
   ]
  },
  {
   "cell_type": "code",
   "execution_count": 4,
   "id": "c56a51f0",
   "metadata": {},
   "outputs": [],
   "source": [
    "# 시계열 데이터!\n",
    "class TSDataset(Dataset):\n",
    "    def __init__(self, data, seq_length):\n",
    "        self.data = data # 이 데이터는 뭐야? Pandas의 DataFrame!\n",
    "        self.seq_length = seq_length\n",
    "\n",
    "    def __len__(self):\n",
    "        return len(self.data) - self.seq_length\n",
    "    \n",
    "    def __getitem__(self, index):\n",
    "        # TODO: X, y값 확인해야 함\n",
    "        # 동일한 값이 X, y에 할돵되는지\n",
    "        X = self.data[index : index+self.seq_length] # 시계열\n",
    "        y = self.data[index + self.seq_length] # 주어진 인덱스에서 ~ 까지의 데이터\n",
    "        return torch.FloatTensor(X), torch.FloatTensor(y)"
   ]
  },
  {
   "cell_type": "code",
   "execution_count": null,
   "id": "e2f3f947",
   "metadata": {},
   "outputs": [],
   "source": [
    "class SimpleRNN(nn.Module):\n",
    "    def __init__(self, input_size=1, hidden_size=64, num_layers=2, output_size=1, dropout=0.2): # RNN은 거의 확실하게 과적합이 되기 때문에 dropout줌\n",
    "        super(SimpleRNN, self).__init__()\n",
    "        self.hidden_size=hidden_size\n",
    "        self.num_layers=num_layers\n",
    "\n",
    "        self.rnn = nn.RNN(\n",
    "            input_size=input_size,\n",
    "            num_layers=num_layers,\n",
    "            batch_first=True,\n",
    "            dropout=dropout if num_layers > 1 else 0\n",
    "        )\n",
    "        self.fc = nn.Linear(hidden_size, output_size)\n",
    "\n",
    "    def forward(self, x):\n",
    "        h0 = torch.zeros(self.num_layers, x.size(0), self.hidden_size).to(x.device) # 초기값 : 0\n",
    "        #h0 = torch.randn(self.num_layers, x.size(0), self.hidden_size).to(x.device) # 초기값 : 은닉층(들)의 기울기 array - 초기값 모르면 랜덤!\n",
    "        out, _ = self.rnn(input, h0) # out, h1 - num_layers가 더 있으면 h1 사용해서 다음 레이어(은닉층간이 아님, 다음 RNN 레이어 말하는 것, RNN 레이어 간)에 넘길텐데\n",
    "        out = self.fc(out)\n",
    "        return out"
   ]
  }
 ],
 "metadata": {
  "kernelspec": {
   "display_name": "bgy_3_12",
   "language": "python",
   "name": "python3"
  },
  "language_info": {
   "codemirror_mode": {
    "name": "ipython",
    "version": 3
   },
   "file_extension": ".py",
   "mimetype": "text/x-python",
   "name": "python",
   "nbconvert_exporter": "python",
   "pygments_lexer": "ipython3",
   "version": "3.12.11"
  }
 },
 "nbformat": 4,
 "nbformat_minor": 5
}
