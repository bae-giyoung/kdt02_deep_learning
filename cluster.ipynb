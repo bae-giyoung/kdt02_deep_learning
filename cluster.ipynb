{
 "cells": [
  {
   "cell_type": "code",
   "execution_count": null,
   "id": "961d0fb5",
   "metadata": {},
   "outputs": [],
   "source": [
    "import torch\n",
    "from torch_cluster import knn_graph\n",
    "\n",
    "# 정사각형 모서리\n",
    "x = torch.tensor([[-1., -1.], [-1., 1.], [1., -1.], [1., 1.]])\n",
    "batch = torch.tensor([0, 0, 0, 0])\n",
    "edge_index = knn_graph(x, k=2, batch=batch, loop=False)"
   ]
  },
  {
   "cell_type": "code",
   "execution_count": null,
   "id": "c027ecf9",
   "metadata": {},
   "outputs": [],
   "source": [
    "print(edge_index)\n",
    "tensor([[1, 2, 0, 3, 0, 3, 1, 2],\n",
    "        [0, 0, 1, 1, 2, 2, 3, 3]])"
   ]
  },
  {
   "cell_type": "code",
   "execution_count": null,
   "id": "f4536903",
   "metadata": {},
   "outputs": [],
   "source": [
    "# [1, 2, 0, 3, 0, 3, 1, 2] # 시작 노드\n",
    "#  ↓  ↓  ↓  ↓  ↓  ↓  ↓  ↓\n",
    "# [0, 0, 1, 1, 2, 2, 3, 3] # 타겟 노드\n",
    "\n",
    "# 최단 거리\n",
    "# 노드 (-1,-1) => 노드 (-1, 1) / 노드 (1, -1)\n",
    "# 노드 (-1,1)\n",
    "# 노드 (1,-1)\n",
    "# 노드 (1,1)\n",
    "\n",
    "# SOM과 KNN을 합침"
   ]
  },
  {
   "cell_type": "code",
   "execution_count": null,
   "id": "9005e47e",
   "metadata": {},
   "outputs": [],
   "source": []
  }
 ],
 "metadata": {
  "kernelspec": {
   "display_name": "Python 3",
   "language": "python",
   "name": "python3"
  },
  "language_info": {
   "codemirror_mode": {
    "name": "ipython",
    "version": 3
   },
   "file_extension": ".py",
   "mimetype": "text/x-python",
   "name": "python",
   "nbconvert_exporter": "python",
   "pygments_lexer": "ipython3",
   "version": "3.12.10"
  }
 },
 "nbformat": 4,
 "nbformat_minor": 5
}
