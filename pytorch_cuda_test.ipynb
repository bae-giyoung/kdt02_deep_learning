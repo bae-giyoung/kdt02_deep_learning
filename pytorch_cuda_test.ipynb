{
 "cells": [
  {
   "cell_type": "code",
   "execution_count": 1,
   "id": "7d77143c",
   "metadata": {},
   "outputs": [
    {
     "name": "stdout",
     "output_type": "stream",
     "text": [
      "CUDA 사용 가능 여부 : True\n",
      "현재 사용 device : cuda:0\n",
      "CUDA Index : 0\n",
      "GPU 이름 : NVIDIA GeForce RTX 2070\n",
      "GPU 개수 : 1\n"
     ]
    }
   ],
   "source": [
    "import torch\n",
    "USE_CUDA =torch.cuda.is_available()\n",
    "device =torch.device('cuda:0'if USE_CUDA else 'cpu')\n",
    "print('CUDA 사용 가능 여부 :', USE_CUDA)\n",
    "print('현재 사용 device :', device)\n",
    "print('CUDA Index :', torch.cuda.current_device())\n",
    "print('GPU 이름 :', torch.cuda.get_device_name())\n",
    "print('GPU 개수 :', torch.cuda.device_count())"
   ]
  }
 ],
 "metadata": {
  "kernelspec": {
   "display_name": "bgy_3_12",
   "language": "python",
   "name": "python3"
  },
  "language_info": {
   "codemirror_mode": {
    "name": "ipython",
    "version": 3
   },
   "file_extension": ".py",
   "mimetype": "text/x-python",
   "name": "python",
   "nbconvert_exporter": "python",
   "pygments_lexer": "ipython3",
   "version": "3.12.11"
  }
 },
 "nbformat": 4,
 "nbformat_minor": 5
}
