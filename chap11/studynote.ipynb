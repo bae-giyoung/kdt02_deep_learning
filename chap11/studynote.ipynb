{
 "cells": [
  {
   "cell_type": "code",
   "execution_count": null,
   "id": "9291e9a6",
   "metadata": {},
   "outputs": [],
   "source": [
    "import torch\n",
    "import numpy as np\n",
    "import pandas as pd\n",
    "import matplotlib.pyplot as plt\n",
    "from sklearn.preprocessing import StandardScaler\n",
    "from sklearn.metrics.pairwise import cosine_similarity\n",
    "from torch_cluster import knn_graph, random_walk\n",
    "from scipy.cluster.hierarchy import linkage, fcluster\n",
    "\n",
    "# 한글 폰트 설정\n",
    "plt.rcParams[\"font.family\"] = [\"Malgun Gothic\"]\n",
    "plt.rcParams[\"axes.unicode_minus\"] = False"
   ]
  },
  {
   "cell_type": "code",
   "execution_count": null,
   "id": "aea009e1",
   "metadata": {},
   "outputs": [],
   "source": [
    "def load_data(file_path):\n",
    "\tprint(f\"데이터 불러오기: \")\n",
    "\tdf = pd.read_csv(file_path)\n",
    "\tdf[\"Date\"] = pd.to_datetime(df[\"Date\"])\n",
    "\tdf = df.set_index(\"Date\").sort_index()\n",
    "\t\n",
    "    # 수익률 계산\n",
    "\treturns = df.pct_change().dropna() # 퍼센트로 체인지해라(수익률) 맨 꼭대기는 nan이 되니 dropna를 해라 1행 줄어듬\n",
    "\t\n",
    "\treturn returns\n",
    "\n",
    "returns = load_data(\"data/stock_bond_futures_data.csv\") # 수익률!"
   ]
  },
  {
   "cell_type": "code",
   "execution_count": null,
   "id": "be2795c9",
   "metadata": {},
   "outputs": [],
   "source": [
    "returns.iloc[0:60]"
   ]
  },
  {
   "cell_type": "code",
   "execution_count": null,
   "id": "4812f25a",
   "metadata": {},
   "outputs": [],
   "source": [
    "for i in range(60, 100):\n",
    "    print(returns[i-60:i]) # 이러면 안돼 안돼"
   ]
  },
  {
   "cell_type": "code",
   "execution_count": null,
   "id": "a287eb31",
   "metadata": {},
   "outputs": [
    {
     "ename": "NameError",
     "evalue": "name 'returns' is not defined",
     "output_type": "error",
     "traceback": [
      "\u001b[31m---------------------------------------------------------------------------\u001b[39m",
      "\u001b[31mNameError\u001b[39m                                 Traceback (most recent call last)",
      "\u001b[36mCell\u001b[39m\u001b[36m \u001b[39m\u001b[32mIn[1]\u001b[39m\u001b[32m, line 15\u001b[39m\n\u001b[32m      9\u001b[39m \t\tmean_return = period_data.mean().values \u001b[38;5;66;03m# 평균 수익률\u001b[39;00m\n\u001b[32m     11\u001b[39m \t\t\u001b[38;5;66;03m#\u001b[39;00m\n\u001b[32m---> \u001b[39m\u001b[32m15\u001b[39m features = create_features(\u001b[43mreturns\u001b[49m, window=\u001b[32m60\u001b[39m)\n",
      "\u001b[31mNameError\u001b[39m: name 'returns' is not defined"
     ]
    }
   ],
   "source": [
    "def create_features(returns, window=60):\n",
    "\tfeatures = [] # \n",
    "\tfor i in range(window, len(returns)):\n",
    "\t\t# 윈도우 기간 데이테\n",
    "\t\tperiod_data = returns.iloc[i-60:i]\n",
    "\n",
    "\t\t# 특성 계산\n",
    "\t\tvolatility = period_data.std().values # 변동성 작으면 로우 리스크\n",
    "\t\tmean_return = period_data.mean().values # 평균 수익률\n",
    "\n",
    "\t\t# 상관관계 행렬 요소들\n",
    "\t\tcorr_matrix = period_data.corr().values\n",
    "\t\tcorr_featurs = \"\"\n",
    "\t\t\n",
    "\t\t# 벡터 결합\n",
    "\t\tfeatures_vector = np.concatenate([volatility, mean_return, corr_featurs])\n",
    "\t\tfeatures.append(features_vector)\n",
    "\n",
    "\n",
    "\n",
    "features = create_features(returns, window=60)"
   ]
  },
  {
   "cell_type": "code",
   "execution_count": null,
   "id": "ca38bc68",
   "metadata": {},
   "outputs": [],
   "source": [
    "def random_walk_clustering(features, n_clusters=4):\n",
    "\t\n",
    "    # KNN 그래프 생성\n",
    "    k_neighbors = min(10, X.size(0)-1)\n",
    "    edge_index = knn_graph(X, k=k_neighbors)\n",
    "    print(f\"    - KNN 그래프 생성 완료 (k=(k-neighbors))\")\n",
    "\n",
    "    # 특성 공학\n",
    "\n",
    "    # PyTorch 텐서로 변경\n",
    "\n",
    "    walk_embeddings = []"
   ]
  },
  {
   "cell_type": "code",
   "execution_count": null,
   "id": "95067159",
   "metadata": {},
   "outputs": [],
   "source": [
    "cluster_centers = []\n",
    "for cluster_id in range(n_clusters):\n",
    "    mask = cluster_ids == cluster_id\n",
    "    if mask.sum() > 0:\n",
    "        center = walk.features[mask].mean(axis=0)"
   ]
  }
 ],
 "metadata": {
  "kernelspec": {
   "display_name": "Python 3",
   "language": "python",
   "name": "python3"
  },
  "language_info": {
   "codemirror_mode": {
    "name": "ipython",
    "version": 3
   },
   "file_extension": ".py",
   "mimetype": "text/x-python",
   "name": "python",
   "nbconvert_exporter": "python",
   "pygments_lexer": "ipython3",
   "version": "3.12.10"
  }
 },
 "nbformat": 4,
 "nbformat_minor": 5
}
